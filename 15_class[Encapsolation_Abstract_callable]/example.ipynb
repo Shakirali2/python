{
 "cells": [
  {
   "cell_type": "code",
   "execution_count": null,
   "metadata": {},
   "outputs": [],
   "source": [
    "class SampleClass:\n",
    "    def method(self):\n",
    "        print(\"You called method()!\")\n",
    "\n",
    "print(type(SampleClass))"
   ]
  },
  {
   "cell_type": "code",
   "execution_count": null,
   "metadata": {},
   "outputs": [],
   "source": [
    "dir(type)"
   ]
  },
  {
   "cell_type": "code",
   "execution_count": null,
   "metadata": {},
   "outputs": [],
   "source": [
    "sample_instance = SampleClass\n",
    "dir(sample_instance.method)"
   ]
  },
  {
   "cell_type": "code",
   "execution_count": null,
   "metadata": {},
   "outputs": [],
   "source": [
    "from typing import Any\n",
    "\n",
    "\n",
    "class NonCallable:\n",
    "    def __call__(self):\n",
    "        raise TypeError(\"not really callable\")\n",
    "    \n",
    "instance : NonCallable = NonCallable()\n",
    "callable(instance)\n",
    "    "
   ]
  },
  {
   "cell_type": "code",
   "execution_count": null,
   "metadata": {},
   "outputs": [],
   "source": [
    "instance()"
   ]
  },
  {
   "cell_type": "code",
   "execution_count": null,
   "metadata": {},
   "outputs": [],
   "source": [
    "class PowerFactory:\n",
    "    def __init__(self, exponent=2):\n",
    "        self.exponent = exponent\n",
    "    \n",
    "    def __call__(self, base):\n",
    "        return base**self.exponent\n",
    "    \n",
    "a : PowerFactory = PowerFactory()\n",
    "a.exponent"
   ]
  },
  {
   "cell_type": "code",
   "execution_count": null,
   "metadata": {},
   "outputs": [],
   "source": [
    "a(3)"
   ]
  },
  {
   "cell_type": "code",
   "execution_count": null,
   "metadata": {},
   "outputs": [],
   "source": [
    "# cumulative_average.py\n",
    "\n",
    "from typing import Any\n",
    "\n",
    "\n",
    "class CumulativeAverager:\n",
    "    def __init__(self):\n",
    "        self.data = []\n",
    "\n",
    "    def __call__(self, new_value):\n",
    "        self.data.append(new_value)\n",
    "        print(self.data)\n",
    "        return sum(self.data) / len(self.data)"
   ]
  },
  {
   "cell_type": "code",
   "execution_count": null,
   "metadata": {},
   "outputs": [],
   "source": [
    "stream_average = CumulativeAverager() # __init__\n",
    "# data = [] object_name()\n",
    "print(stream_average(12)) # data = [12] (12/1)\n",
    "\n",
    "print(stream_average(13)) # data = [12,13] (12*13/2)\n",
    "\n",
    "print(stream_average(11)) \n",
    "\n",
    "print(stream_average(10))\n",
    "\n",
    "stream_average.data"
   ]
  },
  {
   "cell_type": "code",
   "execution_count": null,
   "metadata": {},
   "outputs": [],
   "source": [
    "# factorial.py\n",
    "\n",
    "from typing import Any\n",
    "\n",
    "\n",
    "class Factorial:\n",
    "    def __init__(self):\n",
    "        self.cache = {0: 1, 1: 1}\n",
    "\n",
    "    def __call__(self, number):\n",
    "        if number not in self.cache:\n",
    "            self.cache[number] = number * self(number - 1)\n",
    "        return self.cache[number]"
   ]
  },
  {
   "cell_type": "code",
   "execution_count": null,
   "metadata": {},
   "outputs": [],
   "source": [
    "factorial_of = Factorial()\n",
    "\n",
    "factorial_of(4)\n",
    "\n",
    "factorial_of(5)\n",
    "\n",
    "factorial_of(6)\n",
    "\n",
    "factorial_of.cache"
   ]
  },
  {
   "cell_type": "code",
   "execution_count": null,
   "metadata": {},
   "outputs": [],
   "source": [
    "# timing.py\n",
    "\n",
    "import time\n",
    "from typing import Any\n",
    "\n",
    "class ExecutionTimer:\n",
    "    def __init__(self, func):\n",
    "        self.func = func\n",
    "\n",
    "    def __call__(self, *args: Any, **kwds: Any) -> Any:\n",
    "        start = time.perf_counter()\n",
    "        result = self.func(*args, **kwds)\n",
    "        end = time.perf_counter()\n",
    "        print(f\"{self.func.__name__}() took {(end - start) * 1000:.4f} ms\")\n",
    "        return result"
   ]
  }
 ],
 "metadata": {
  "language_info": {
   "name": "python"
  }
 },
 "nbformat": 4,
 "nbformat_minor": 2
}
