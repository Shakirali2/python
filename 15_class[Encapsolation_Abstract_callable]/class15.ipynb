{
 "cells": [
  {
   "cell_type": "code",
   "execution_count": null,
   "metadata": {},
   "outputs": [],
   "source": [
    "from piaic.genai import ExecutionTimer "
   ]
  },
  {
   "cell_type": "code",
   "execution_count": null,
   "metadata": {},
   "outputs": [],
   "source": [
    "@ExecutionTimer\n",
    "def square_numbers(numbers):\n",
    "    return [number ** 2 for number in numbers]\n",
    "\n",
    "square_numbers(list(range(10)))"
   ]
  },
  {
   "cell_type": "markdown",
   "metadata": {},
   "source": [
    "How can we crate python package for public users?\n",
    "\n",
    "https://www.turing.com/kb/how-to-create-pypi-packages"
   ]
  },
  {
   "cell_type": "code",
   "execution_count": null,
   "metadata": {},
   "outputs": [],
   "source": [
    "class piaic():\n",
    "    def __init__(self) -> None:\n",
    "        #self.name                      public\n",
    "        self.piaic_helpline : str = \"0800\" #\n",
    "        #self.name                      protected \n",
    "        self._total_expense : int = 6000000 # \n",
    "        # __ = dundder\n",
    "        #slef.__name                    private\n",
    "        self.__test_announcement : = \"5 Nov 2023\"\n",
    "\n",
    "isfhan : Piaic = Piaic()\n",
    "print(isfhan.piaic_helpline)"
   ]
  },
  {
   "cell_type": "code",
   "execution_count": null,
   "metadata": {},
   "outputs": [],
   "source": [
    "isfhan.piaic_helpline = '0300-1234567'\n",
    "print(isfhan.piaic_helpline)"
   ]
  },
  {
   "cell_type": "code",
   "execution_count": null,
   "metadata": {},
   "outputs": [],
   "source": [
    "isfhan.Piaic__test_announcement"
   ]
  },
  {
   "cell_type": "code",
   "execution_count": null,
   "metadata": {},
   "outputs": [],
   "source": [
    "class StudentLogin():\n",
    "    def __init__(self) -> None:\n",
    "        self.__username : str = \"Admin\"\n",
    "        self.__password : str = \"Admin\"\n",
    "\n",
    "    def __dbconnectivity(self, user:str, password:str):\n",
    "        print(\"Successfully connected\")\n",
    "        if user == self.__username and password == self.__password:\n",
    "            return \"Valid user\"\n",
    "        else:\n",
    "            return \"Invalid user\"\n",
    "    def update_password(self, password:str):\n",
    "        self.__password = password\n",
    "\n",
    "    def student_login(self, user: str, pass!: str):\n",
    "        message : str = self.__dbconnectivity(user,pass1)\n",
    "        print(message)\n",
    "        \n",
    "    def display_information(self):\n",
    "        print(f\"Hello Dear, {self,_username} and password {self.__password}\")\n",
    "\n",
    "qasim : StudentLogin = StudentLogin()\n"
   ]
  },
  {
   "cell_type": "code",
   "execution_count": null,
   "metadata": {},
   "outputs": [],
   "source": [
    "qasim.__password = 'aasd'"
   ]
  },
  {
   "cell_type": "code",
   "execution_count": null,
   "metadata": {},
   "outputs": [],
   "source": [
    "qasim.display_information()"
   ]
  },
  {
   "cell_type": "code",
   "execution_count": null,
   "metadata": {},
   "outputs": [],
   "source": [
    "qasim.student_login(\"qasim\", \"qasim123\")"
   ]
  },
  {
   "cell_type": "code",
   "execution_count": null,
   "metadata": {},
   "outputs": [],
   "source": [
    "qasim.student_login(\"Admin\", \"Admin\")"
   ]
  },
  {
   "cell_type": "code",
   "execution_count": null,
   "metadata": {},
   "outputs": [],
   "source": [
    "qasim.update_password(\"qasim123\")"
   ]
  },
  {
   "cell_type": "code",
   "execution_count": null,
   "metadata": {},
   "outputs": [],
   "source": [
    "qasim.display_information()"
   ]
  }
 ],
 "metadata": {
  "language_info": {
   "name": "python"
  }
 },
 "nbformat": 4,
 "nbformat_minor": 2
}
