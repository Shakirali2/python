{
 "cells": [
  {
   "cell_type": "code",
   "execution_count": null,
   "metadata": {},
   "outputs": [],
   "source": [
    "import numpy as np\n",
    "\n",
    "a : np.ndarray = np.array(1000)\n",
    "\n",
    "display(f\" object {a}\") # prints\n",
    "display(f\"object shape {a.shape}\") # prints the shape of the object {} = 0-Denormalized\n",
    "display(f\"object type {a.dtype}\") # prints the dtype of the object\n",
    "display(f\"objec type with global function {type(a)}\") # prints the dtype of the \n",
    "display(f\"Number of dimension {a.ndim}\") # print the number of dimension\n",
    "display(f\"Total items in Arrya : {a.size}\") # print the size of the object\n",
    "display(f\"{a.itemsize}\") # print the itemsize of the object \n",
    "\n"
   ]
  },
  {
   "cell_type": "markdown",
   "metadata": {},
   "source": [
    "Matrix"
   ]
  },
  {
   "cell_type": "code",
   "execution_count": null,
   "metadata": {},
   "outputs": [],
   "source": [
    "import numpy as np\n",
    "\n",
    "data = [[0,1,2,3],\n",
    "        [4,5,6,7],\n",
    "        [8,9,10,11]] \n",
    "a : np.ndarray = np.array(data)\n",
    "\n",
    "display(f\" object {a}\") # prints\n",
    "display(f\"object shape {a.shape}\") # prints the shape of the object {} = 0-Denormalized\n",
    "display(f\"object type {a.dtype}\") # prints the dtype of the object\n",
    "display(f\"objec type with global function {type(a)}\") # prints the dtype of the \n",
    "display(f\"Number of dimension {a.ndim}\") # print the number of dimension\n",
    "display(f\"Total items in Arrya : {a.size}\") # print the size of the object\n",
    "display(f\"{a.itemsize}\") # print the itemsize of the object \n",
    "\n"
   ]
  },
  {
   "cell_type": "markdown",
   "metadata": {},
   "source": [
    "Numpy with NDArray typing support"
   ]
  },
  {
   "cell_type": "code",
   "execution_count": null,
   "metadata": {},
   "outputs": [],
   "source": [
    "from nptyping import NDArray, shape, UInt16\n",
    "from typing import Any\n",
    "\n",
    "\n",
    "data : NDArray[Shape[\"10\", Any]] = np.arange(1,11)\n",
    "\n",
    "print(data)\n",
    "print(data + 5) # Addition operation"
   ]
  },
  {
   "cell_type": "code",
   "execution_count": null,
   "metadata": {},
   "outputs": [],
   "source": [
    "%%time\n",
    "\n",
    "data : NDArray[Shape[\"10\", Any]] = np.arange(1,1000000)\n",
    " \n",
    "print(data + 5)"
   ]
  },
  {
   "cell_type": "code",
   "execution_count": null,
   "metadata": {},
   "outputs": [],
   "source": [
    "%%time\n",
    "data : list[int]= list(range(1,1000000))\n",
    "[i + 5 for i in data]  "
   ]
  },
  {
   "cell_type": "markdown",
   "metadata": {},
   "source": [
    "numpy advanced operations vs list operation"
   ]
  },
  {
   "cell_type": "code",
   "execution_count": null,
   "metadata": {},
   "outputs": [],
   "source": [
    "data : list[int] = list(range(1,12))\n",
    "print(data)\n",
    "print(data[5:11])\n",
    "data[5:11] = 1000 # normal python list\n",
    "print(data)"
   ]
  },
  {
   "cell_type": "code",
   "execution_count": null,
   "metadata": {},
   "outputs": [],
   "source": [
    "ndata : NDArray[Shape[\"20\"],Any] = np.arange(1,21)\n",
    "print(ndata)\n",
    "print(ndata[5:11])\n",
    "ndata[5:11] = 1000\n",
    "print(ndata)"
   ]
  },
  {
   "cell_type": "code",
   "execution_count": null,
   "metadata": {},
   "outputs": [],
   "source": [
    "state_bank : NDArray[Shape[\"10\"],Any] = np.array([1,7,8,10])\n",
    "stat_bank[state_bank % 2 ==0]"
   ]
  },
  {
   "cell_type": "code",
   "execution_count": null,
   "metadata": {},
   "outputs": [],
   "source": [
    "state_bank : NDArray[Shape[\"10\"],Any] = np.array([1,7,8,10])\n",
    "#[1,    7,     8,    10]\n",
    "#[True, False, False, True]\n",
    "#variable[True, False, False, True]\n",
    "select : NDArray[Shape[\"10\"],Bool] = np.array([True, False, False, True])\n",
    "\n",
    "stat_bank[select]\n"
   ]
  },
  {
   "cell_type": "code",
   "execution_count": null,
   "metadata": {},
   "outputs": [],
   "source": [
    "state_bank : NDArray[Shape[\"10\"],Any] = np.array([1,7,8,10])\n",
    "\n",
    "ubl_bank : NDArray[Shape[\"100\"],Any] = np.random.randint(1,1000,20)\n",
    "\n",
    "display(state_bank)\n",
    "display(ubl_bank)\n"
   ]
  },
  {
   "cell_type": "code",
   "execution_count": null,
   "metadata": {},
   "outputs": [],
   "source": [
    "display(state_bank)\n",
    "display(ubl_bank)\n",
    "#       4 item     search 20 item\n",
    "np.in1d[(state_bank,ubl_bank)] # first variable items length returned"
   ]
  },
  {
   "cell_type": "code",
   "execution_count": null,
   "metadata": {},
   "outputs": [],
   "source": [
    "np.intersect1d(state_bank, ubl_bank)"
   ]
  },
  {
   "cell_type": "code",
   "execution_count": null,
   "metadata": {},
   "outputs": [],
   "source": []
  },
  {
   "cell_type": "code",
   "execution_count": null,
   "metadata": {},
   "outputs": [],
   "source": [
    "x : NDArray[Shape[\"5\"],Any] np.array([1,3,4,5,7])\n",
    "Y : NDArray[Shape[\"5\"],Any] np.array([6,3,2,5,100])\n",
    "\n",
    "display\n",
    "np.where(x > y, x, y)"
   ]
  },
  {
   "cell_type": "markdown",
   "metadata": {},
   "source": [
    "Create Numpy arrays"
   ]
  },
  {
   "cell_type": "code",
   "execution_count": null,
   "metadata": {},
   "outputs": [],
   "source": [
    "a : NDarray[ShapeType[\"Size, Size\"], Any] = np.array([[1, 2, 3],\n",
    "                                                      [4, 5, 6]])\n",
    "print(a)\n",
    "\n",
    "a : NDarray[ShapeType[\"Size, Size\"], Any] = np.array([[1, 2],\n",
    "                                                        [4, 5]])\n",
    "print(a)\n",
    "\n",
    "a : NDarray[ShapeType[\"Size, Size\"], Any] = np.array([[\"A\"],\n",
    "                                                      [\"B\"]])\n",
    "print(a)\n",
    "\n"
   ]
  },
  {
   "cell_type": "code",
   "execution_count": null,
   "metadata": {},
   "outputs": [],
   "source": [
    "a : NDarray[ShapeType[\"*, *\"], Any] = np.array([[1, 2, 3],\n",
    "                                                      [4, 5, 6]])\n",
    "print(a)\n",
    "\n",
    "a : NDarray[ShapeType[\"*, *\"], Any] = np.array([[1, 2],\n",
    "                                                        [4, 5]])\n",
    "print(a)\n",
    "\n",
    "a : NDarray[ShapeType[\"*, *\"], Any] = np.array([[\"A\"],\n",
    "                                                      [\"B\"]])\n",
    "print(a)\n",
    "\n"
   ]
  },
  {
   "cell_type": "markdown",
   "metadata": {},
   "source": [
    "Create any dimension array"
   ]
  },
  {
   "cell_type": "code",
   "execution_count": null,
   "metadata": {},
   "outputs": [],
   "source": [
    "a : NDArray[Shape[\"Size\"], Any] = np.arange(1, 5)\n",
    "print(a)\n",
    "a : NDArray[Shape[\"Size\"], Any] = np.arange(1, 10)\n",
    "print(a)"
   ]
  },
  {
   "cell_type": "code",
   "execution_count": null,
   "metadata": {},
   "outputs": [],
   "source": [
    "a : NDArray[Shape[\"Size, Size\"], Any] = np.arange(3*3).reshape(3,3)\n",
    "print(a)\n",
    "a : NDArray[Shape[\"Size, Size\"], Any] = np.arange(5* 3).reshape(5,3)\n",
    "print(a)"
   ]
  },
  {
   "cell_type": "code",
   "execution_count": null,
   "metadata": {},
   "outputs": [],
   "source": [
    "a : NDArray[Shape[\"Size, Size, Size\"], Any] = np.arange(2*3*3).reshape(2,3,3)\n",
    "print(a)\n",
    "print('=======')\n",
    "a : NDArray[Shape[\"Size, Size, Size\"], Any] = np.arange(5*2*2).reshape(5,2,2)\n",
    "print(a)"
   ]
  },
  {
   "cell_type": "code",
   "execution_count": null,
   "metadata": {},
   "outputs": [],
   "source": [
    "a : NDArray[Shape[\"Size, Size, Size\"], Any] = np.arange(5*2*2).reshape(5,2,2)\n",
    "a[::2,::,::]\n",
    "a[a%2==0]"
   ]
  },
  {
   "cell_type": "code",
   "execution_count": null,
   "metadata": {},
   "outputs": [],
   "source": [
    "np.asarray([1,2,3])"
   ]
  },
  {
   "cell_type": "code",
   "execution_count": null,
   "metadata": {},
   "outputs": [],
   "source": [
    "np.zeros(10)"
   ]
  },
  {
   "cell_type": "code",
   "execution_count": null,
   "metadata": {},
   "outputs": [],
   "source": [
    "np.zeros((2,2))"
   ]
  },
  {
   "cell_type": "code",
   "execution_count": null,
   "metadata": {},
   "outputs": [],
   "source": [
    "np.ones((2,2))"
   ]
  },
  {
   "cell_type": "code",
   "execution_count": null,
   "metadata": {},
   "outputs": [],
   "source": [
    "a : NDArray[Shape[\"Size, Size, Size\"], Any] = np.arange(5*2*2).reshape(5,2,2)\n"
   ]
  },
  {
   "cell_type": "code",
   "execution_count": null,
   "metadata": {},
   "outputs": [],
   "source": [
    "np.ones_likes(a)"
   ]
  },
  {
   "cell_type": "code",
   "execution_count": null,
   "metadata": {},
   "outputs": [],
   "source": [
    "a : NDArray[Shape[\"Size, Size, Size\"], Any] = np.arange(5*2*2).reshape(5,2,2)\n",
    "a[[0,-1],::,::]"
   ]
  },
  {
   "cell_type": "code",
   "execution_count": null,
   "metadata": {},
   "outputs": [],
   "source": [
    "ndata : NDArray[Shape[\"20\"], Any] = np.arange(1,21)\n",
    "\n",
    "print(ndata)\n",
    "print(ndata.min())\n",
    "print(ndata.max())\n",
    "print(ndata.argmax())\n",
    "print(ndata.argmin())\n",
    "print(ndata.mean())\n",
    "print(ndata.sum())\n",
    "print(ndata.cumsum())"
   ]
  }
 ],
 "metadata": {
  "language_info": {
   "name": "python"
  }
 },
 "nbformat": 4,
 "nbformat_minor": 2
}
